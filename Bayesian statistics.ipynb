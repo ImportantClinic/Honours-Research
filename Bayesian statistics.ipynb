{
 "cells": [
  {
   "cell_type": "markdown",
   "metadata": {},
   "source": [
    "# Notes on Bayesian Statisitcs"
   ]
  },
  {
   "cell_type": "markdown",
   "metadata": {},
   "source": [
    "## Table of contents"
   ]
  },
  {
   "cell_type": "markdown",
   "metadata": {},
   "source": [
    "[Appendix](#Appendix)  \n",
    "[1. Highlights and rough work](#Highlights-and-rough-work)"
   ]
  },
  {
   "cell_type": "markdown",
   "metadata": {},
   "source": [
    "## Appendix"
   ]
  },
  {
   "cell_type": "markdown",
   "metadata": {},
   "source": [
    "### Highlights and rough work\n",
    "a rough draft of my thoughts on first reading a chapter or section"
   ]
  },
  {
   "cell_type": "markdown",
   "metadata": {},
   "source": [
    "#### Chapter 1\n",
    "<ul>\n",
    "<li>probability statements can only be made about random quantities, and in the frequentist approach the population parameters are held to be fixed. Thus, probability statements cannot be applied to them. Instead in the classical approach confidence statements, based on the probability distribution over all random samples, can be made regarding the parameters. The confidence is based on the average behavior of the process that generates the data.</li>\n",
    "</ul>\n",
    "\n",
    "The bayesian approach to statistics is represented by four main ideas:\n",
    "<ol>\n",
    "    <li>parameters are considered random variables</li>\n",
    "    <li>Rules of probability are used to make direct inference</li>\n",
    "    <li>Probability statements are a degree of belief, meaning the prior is subjective</li>\n",
    "    <li>We adapt our beliefs about the priors after seeing the data using bayes rule. This gives us the posterior</li>\n",
    "</ol>\n",
    "Our beliefs are updated based on the observed data, not all the data that could possibly have occured but didn't.\n",
    "\n",
    "<ul>\n",
    "<li>Bayesian stats has a general way of dealing with nuisance parameters, which frequentist do not</li>\n",
    "<li>Before taking the data into account we may want to know how well the model fits at certain values of the parameters. Our Priors are in effect distributions for our parameters and can therefore be used for such <em>pre-posterior</em> trials</li>\n",
    "</ul>\n"
   ]
  },
  {
   "cell_type": "markdown",
   "metadata": {},
   "source": [
    "# Chapter 2\n",
    "<ul>\n",
    "    <li><b>Simple random sampling:</b> </li>\n",
    "</ul>\n",
    "\n"
   ]
  }
 ],
 "metadata": {
  "kernelspec": {
   "display_name": "Python 3.10.3 ('Kernel')",
   "language": "python",
   "name": "python3"
  },
  "language_info": {
   "name": "python",
   "version": "3.10.3"
  },
  "orig_nbformat": 4,
  "vscode": {
   "interpreter": {
    "hash": "e9738b5824fcb5c601bc7da97e16a30cd4d8bc69ceef6489b1986c3e5b099a82"
   }
  }
 },
 "nbformat": 4,
 "nbformat_minor": 2
}
