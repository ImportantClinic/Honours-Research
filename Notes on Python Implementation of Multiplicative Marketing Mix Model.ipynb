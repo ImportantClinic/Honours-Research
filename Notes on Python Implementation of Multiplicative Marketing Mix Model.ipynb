{
 "cells": [
  {
   "cell_type": "markdown",
   "metadata": {},
   "source": [
    "# Notes on MMM"
   ]
  },
  {
   "cell_type": "markdown",
   "metadata": {},
   "source": [
    "### Table of contents\n",
    "[Technical implemntation](#Technical-implemntation)  \n",
    "[1. Adstock function](#1.-Adstock-function)    \n",
    "  \n",
    "[Appendix](#Appendix)  \n",
    "[1. Highlights and Rough work](#Highlights-and-Rough-work)"
   ]
  },
  {
   "cell_type": "markdown",
   "metadata": {},
   "source": [
    "## Technical implemntation"
   ]
  },
  {
   "cell_type": "markdown",
   "metadata": {},
   "source": [
    "### 1.1 Adstock function"
   ]
  },
  {
   "cell_type": "markdown",
   "metadata": {},
   "source": [
    "the adstock function is used to model the delayed effect of media spend, and is given by:\n",
    "$$w_{t-l}= D^{{(l-p)}^2} \\;for\\;each\\;l\\;in\\;[0,L)$$  \n",
    "$$x_t^{*}=Adstock(x_t,\\cdots,x_{t-L-1};L,P,D)=\\frac{\\sum_{l=0}^{L-1}w_{t-l}.x_{t-l}}{\\sum_{l=0}^{L-1}w_{t-l}}$$  \n",
    "<ul>\n",
    "    <li>D=retention rate</li>\n",
    "    <li>P=Peak effect</li>\n",
    "    <li>L=duration of media effect</li>\n",
    "</ul>"
   ]
  },
  {
   "cell_type": "code",
   "execution_count": 1,
   "metadata": {},
   "outputs": [],
   "source": [
    "#useful imports\n",
    "import numpy as np\n",
    "import pandas as pd"
   ]
  },
  {
   "cell_type": "code",
   "execution_count": null,
   "metadata": {},
   "outputs": [],
   "source": [
    "def make_weights(P,L,D):\n",
    "    weights=[]\n",
    "    for l in range(L):\n",
    "        wt_l=D**((l-P)**2)\n",
    "        weights.append(wt_l)\n",
    "    \n",
    "    #return a reveresed version of weights since we count down from t to 0\n",
    "    return np.array(weights[::-1])\n",
    "\n",
    "\n",
    "def adstock_transform(X,P,L,D):\n",
    "    transformed=[]\n",
    "    #weights stay the same for each sub array of size L in X \n",
    "    weights=make_weights(P,L,D)\n",
    "    #make np in order to perform calcs\n",
    "    X=np.array(X)\n",
    "\n",
    "    for idx,xi in enumerate(X):\n",
    "        #check if there are L-1 observations before xi\n",
    "        if((idx-(L-1))>=0):\n",
    "            x_subarr=X[idx-L+1:idx+1]\n",
    "            adstocked_xi=sum(x_subarr*weights)/sum(weights)\n",
    "            transformed.append(adstocked_xi)\n",
    "        else:\n",
    "            x_subarr=X[0:idx+1]\n",
    "            #take the last weights\n",
    "            weights_subarr=weights[(L-1)-idx:]\n",
    "            adstocked_xi=sum(x_subarr*weights_subarr)/sum(weights)\n",
    "            transformed.append(adstocked_xi)\n",
    "\n",
    "    return np.array(transformed)"
   ]
  },
  {
   "cell_type": "markdown",
   "metadata": {},
   "source": [
    "### 1.2 Hill Function"
   ]
  },
  {
   "cell_type": "markdown",
   "metadata": {},
   "source": [
    "The hill function represents diminishing returns and is given by $$ Hill(x;K,S)=\\frac{1}{1+(x/K)^S}$$\n",
    "- S=Slope  \n",
    "- K= half saturation point\n",
    "\n",
    "Saturation is a state where extra spending doesn't increase sales  "
   ]
  },
  {
   "cell_type": "code",
   "execution_count": null,
   "metadata": {},
   "outputs": [],
   "source": [
    "def hill_transform(x,K,S):\n",
    "    return 1 / (1 + (x / K)**(-S))"
   ]
  },
  {
   "cell_type": "markdown",
   "metadata": {},
   "source": [
    "the hill functioin suffers from poor identifiability, thus in order to aid with this we set S to 1. Hereafter refered to as the reach transformation."
   ]
  },
  {
   "cell_type": "markdown",
   "metadata": {},
   "source": [
    "### 1.3 Combining the carryover and the shape effect \n",
    "  \n",
    "Now we need to decide wether we want to apply the addstock or shape transform first. For datasets where spending is spread evenly between periods the shape might not matter much. In this case we would apply the addstock first. In scenarios where add spend is concentrated in a few periods you would do the inverse.\n",
    "\n",
    "*Note: we assume media affects to be additive \n",
    "\n",
    "The generic equation is given by:$$y_t= \\tau\\;+\\sum_{m=1}^{M}\\beta_m Hill(x_{t}^*;K_m,S_m) \\;+ \\sum_{c=1}^{C} \\gamma_c z_{t,c} +\\epsilon_t$$\n",
    "where $\\gamma_c$ the effect of control variable c  \n",
    "and $\\beta_m$ the regression coefficient of media spend $x_m$"
   ]
  },
  {
   "cell_type": "code",
   "execution_count": 4,
   "metadata": {},
   "outputs": [],
   "source": [
    "data =pd.read_csv(\"data.csv\", index_col=\"wk_strt_dt\", parse_dates=True)"
   ]
  },
  {
   "cell_type": "code",
   "execution_count": null,
   "metadata": {},
   "outputs": [],
   "source": []
  },
  {
   "cell_type": "markdown",
   "metadata": {},
   "source": [
    "## Appendix"
   ]
  },
  {
   "cell_type": "markdown",
   "metadata": {},
   "source": [
    "### Highlights and rough work"
   ]
  },
  {
   "cell_type": "markdown",
   "metadata": {},
   "source": [
    "<ul>\n",
    "    <li>46 control variables, and 13 media channels</li>\n",
    "    <li>ROAS=return on add spend</li>\n",
    "    <li>MROAS= marginal ROAS</li>\n",
    "</ul>\n",
    "\n",
    "The procedure is as follows:\n",
    "\n",
    "1. Fit a regression based on our priors for our parameters  \n",
    "2. Calculate the sales for each channel using our model, each channel's contribution is calculated as the predicted sales of the model without that channel minus the predicted sales with that chanel.   \n",
    "3. Use channel contribution to calculate ROAS and MROAS\n",
    "\n",
    "-SEM= Paid search add\n",
    "\n",
    "-A good model should take previous thouch points into account.\n",
    "\n",
    "Since the model is multiplicative it is of the form:\n",
    "$$ y= \\beta_{0}.x_{var1}^{\\beta_{var1}} \\cdots x_{control1}^{\\beta_{control1}}$$\n",
    "  \n",
    "hence we take the log of both sides and get:\n",
    "$$\\log y = \\beta_{0}+\\beta_{var1}x_{var1} \\cdots +x_{control1}{\\beta_{control1}}$$\n",
    "\n",
    "-media spend has a delayed affect, this is modeled through the adstock function  \n",
    "$$w_{t-l}= D^{{(l-p)}^2} \\;for\\;each\\;l\\;in\\;[0,L)$$  \n",
    "$$x_t^{*}=Adstock(x_t,\\cdots,x_{t-L-1};L,P,D)=\\frac{\\sum_{l=0}^{L-1}w_{t-l}.x_{t-l}}{\\sum_{l=0}^{L-1}w_{t-l}}$$  \n",
    "<ul>\n",
    "    <li>D=retention rate</li>\n",
    "    <li>P=Peak effect</li>\n",
    "    <li>L=duration of media effect</li>\n",
    "</ul>\n",
    " "
   ]
  },
  {
   "cell_type": "markdown",
   "metadata": {},
   "source": [
    "-diminshing returns modeled by the hill function  \n",
    "-Hill function: $$ Hill(x;K,S)=\\frac{1}{1+(x/K)^S}$$\n"
   ]
  }
 ],
 "metadata": {
  "kernelspec": {
   "display_name": "Python 3.10.3 ('Kernel')",
   "language": "python",
   "name": "python3"
  },
  "language_info": {
   "codemirror_mode": {
    "name": "ipython",
    "version": 3
   },
   "file_extension": ".py",
   "mimetype": "text/x-python",
   "name": "python",
   "nbconvert_exporter": "python",
   "pygments_lexer": "ipython3",
   "version": "3.10.3"
  },
  "orig_nbformat": 4,
  "vscode": {
   "interpreter": {
    "hash": "e9738b5824fcb5c601bc7da97e16a30cd4d8bc69ceef6489b1986c3e5b099a82"
   }
  }
 },
 "nbformat": 4,
 "nbformat_minor": 2
}
