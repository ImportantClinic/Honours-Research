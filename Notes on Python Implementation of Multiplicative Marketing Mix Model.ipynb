{
 "cells": [
  {
   "cell_type": "markdown",
   "metadata": {},
   "source": [
    "# Notes on MMM"
   ]
  },
  {
   "cell_type": "markdown",
   "metadata": {},
   "source": [
    "### Table of contents\n",
    "[Technical implemntation](#Technical-implemntation)  \n",
    "[1. Adstock function](#1.-Adstock-function)    \n",
    "  \n",
    "[Appendix](#Appendix)  \n",
    "[1. Highlights and Rough work](#Highlights-and-Rough-work)"
   ]
  },
  {
   "cell_type": "markdown",
   "metadata": {},
   "source": [
    "## Technical implemntation"
   ]
  },
  {
   "cell_type": "markdown",
   "metadata": {},
   "source": [
    "### 1. Adstock function"
   ]
  },
  {
   "cell_type": "markdown",
   "metadata": {},
   "source": [
    "the adstock function is used to model the delayed effect of media spend, and is given by:\n",
    "$$w_{t-l}= D^{{(l-p)}^2} \\;for\\;each\\;l\\;in\\;[0,L)$$  \n",
    "$$x_t^{*}=Adstock(x_t,\\cdots,x_{t-L-1};L,P,D)=\\frac{\\sum_{l=0}^{L-1}w_{t-l}.x_{t-l}}{\\sum_{l=0}^{L-1}w_{t-l}}$$  \n",
    "<ul>\n",
    "    <li>D=retention rate</li>\n",
    "    <li>P=Peak effect</li>\n",
    "    <li>L=duration of media effect</li>\n",
    "</ul>"
   ]
  },
  {
   "cell_type": "code",
   "execution_count": 2,
   "metadata": {},
   "outputs": [],
   "source": [
    "x=[23,12,34,25,17]"
   ]
  },
  {
   "cell_type": "code",
   "execution_count": 6,
   "metadata": {},
   "outputs": [],
   "source": [
    "def adstock_transform(X,P,L,D):\n",
    "    weights=[]\n",
    "    for l in range(L-1):\n",
    "        wt_l=D**((l-P)**2)\n",
    "        weights.append(wt_l)\n",
    "    \n",
    "    denom=[]\n",
    "    for i in range(L-1):\n",
    "        denom.append(X[i]*weights[-i])\n",
    "    numerator=sum(weights)\n",
    "    return sum(denom)/numerator\n"
   ]
  },
  {
   "cell_type": "markdown",
   "metadata": {},
   "source": [
    "## Appendix"
   ]
  },
  {
   "cell_type": "markdown",
   "metadata": {},
   "source": [
    "### Highlights and rough work"
   ]
  },
  {
   "cell_type": "markdown",
   "metadata": {},
   "source": [
    "<ul>\n",
    "    <li>46 control variables, and 13 media channels</li>\n",
    "    <li>ROAS=return on add spend</li>\n",
    "    <li>MROAS= marginal ROAS</li>\n",
    "</ul>\n",
    "\n",
    "The procedure is as follows:\n",
    "\n",
    "1. Fit a regression based on our priors for our parameters  \n",
    "2. Calculate the sales for each channel using our model, each channel's contribution is calculated as the predicted sales of the model without that channel minus the predicted sales with that chanel.   \n",
    "3. Use channel contribution to calculate ROAS and MROAS\n",
    "\n",
    "-SEM= Paid search add\n",
    "\n",
    "-A good model should take previous thouch points into account.\n",
    "\n",
    "Since the model is multiplicative it is of the form:\n",
    "$$ y= \\beta_{0}.x_{var1}^{\\beta_{var1}} \\cdots x_{control1}^{\\beta_{control1}}$$\n",
    "  \n",
    "hence we take the log of both sides and get:\n",
    "$$\\log y = \\beta_{0}+\\beta_{var1}x_{var1} \\cdots +x_{control1}{\\beta_{control1}}$$\n",
    "\n",
    "-media spend has a delayed affect, this is modeled through the adstock function  \n",
    "$$w_{t-l}= D^{{(l-p)}^2} \\;for\\;each\\;l\\;in\\;[0,L)$$  \n",
    "$$x_t^{*}=Adstock(x_t,\\cdots,x_{t-L-1};L,P,D)=\\frac{\\sum_{l=0}^{L-1}w_{t-l}.x_{t-l}}{\\sum_{l=0}^{L-1}w_{t-l}}$$  \n",
    "<ul>\n",
    "    <li>D=retention rate</li>\n",
    "    <li>P=Peak effect</li>\n",
    "    <li>L=duration of media effect</li>\n",
    "</ul>\n",
    " "
   ]
  }
 ],
 "metadata": {
  "kernelspec": {
   "display_name": "Python 3.10.3 ('Kernel')",
   "language": "python",
   "name": "python3"
  },
  "language_info": {
   "codemirror_mode": {
    "name": "ipython",
    "version": 3
   },
   "file_extension": ".py",
   "mimetype": "text/x-python",
   "name": "python",
   "nbconvert_exporter": "python",
   "pygments_lexer": "ipython3",
   "version": "3.10.3"
  },
  "orig_nbformat": 4,
  "vscode": {
   "interpreter": {
    "hash": "e9738b5824fcb5c601bc7da97e16a30cd4d8bc69ceef6489b1986c3e5b099a82"
   }
  }
 },
 "nbformat": 4,
 "nbformat_minor": 2
}
